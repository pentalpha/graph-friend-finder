{
 "cells": [
  {
   "cell_type": "markdown",
   "metadata": {},
   "source": [
    "### API >> https://facebook-sdk.readthedocs.io/en/latest/api.html\n",
    "### Get access token >> https://developers.facebook.com/tools/explorer"
   ]
  },
  {
   "cell_type": "code",
   "execution_count": null,
   "metadata": {
    "collapsed": false
   },
   "outputs": [],
   "source": [
    "!pip install facebook-sdk"
   ]
  },
  {
   "cell_type": "code",
   "execution_count": null,
   "metadata": {
    "collapsed": true
   },
   "outputs": [],
   "source": [
    "#START\n",
    "#this is my token (Pitágoras)\n",
    "token = \"EAACEdEose0cBAPjctkkb2wngNx0TavRZCKAKTXwmtESkCmlBHMxA3QpMwwcUzYPn1n04PHxp2Bs421GM93RnNYwQXyNbkcc54ZAxtYLzipizPJsjWWrFjn9vZBYHADOgTEZBnhYpV5dYkbdPftGpqdXSDtgTt2Ark8GuO4D7oERcmYfOZB4TDCMCYV15v76wZD\"\n",
    " \n",
    "#ID of \"Pitagoras\"\n",
    "otherPersonID = \"10208935375967359\"\n",
    "raiID = \"739425496128479\"\n",
    "anaID = \"765831436837419\""
   ]
  },
  {
   "cell_type": "code",
   "execution_count": null,
   "metadata": {
    "collapsed": false
   },
   "outputs": [],
   "source": [
    "from collections import defaultdict as ddict\n",
    "import facebook as fb\n",
    "import requests as req\n",
    "%pylab inline"
   ]
  },
  {
   "cell_type": "code",
   "execution_count": null,
   "metadata": {
    "collapsed": true
   },
   "outputs": [],
   "source": [
    "#Gets the categories of pages liked by the user\n",
    "#   token       user access token\n",
    "#   return      dictionary of categories found, each with it's own array of pages\n",
    "#       {c1 : [page1, page2, page3...], c2 : [page4, page5], c3 : [page6]...}\n",
    "def getCats(token):\n",
    "    cats = ddict(str)\n",
    "    graph = fb.GraphAPI(access_token=token, version='2.7')\n",
    "    resource = graph.get_object(\"me/likes?fields=name,category\")\n",
    "    #print(resource)\n",
    "    cats = dict()\n",
    "    while(True):\n",
    "        for page in resource['data']:\n",
    "            cat = page['category']\n",
    "            if not(cat in cats):\n",
    "                cats[cat] = []\n",
    "            cats[cat].append(page['id'])\n",
    "        # Attempt to make a request to the next page of data, if it exists.\n",
    "        try:\n",
    "            resource=req.get(resource['paging']['next']).json()\n",
    "        except KeyError:\n",
    "            #print(\"Finished getting pages\")\n",
    "            # When there are no more pages (['paging']['next']), break from the\n",
    "            # loop and end the script.\n",
    "            break\n",
    "    return cats"
   ]
  },
  {
   "cell_type": "code",
   "execution_count": null,
   "metadata": {
    "collapsed": true
   },
   "outputs": [],
   "source": [
    "#Get the pages that a given user liked\n",
    "#   user    id of a user\n",
    "#   token   access token\n",
    "#   return  array of page IDs\n",
    "#       [page1, page2, page3...]\n",
    "def getPagesList(user, token):\n",
    "    pages = list()\n",
    "    graph = fb.GraphAPI(access_token=token, version='2.7')\n",
    "    resource = graph.get_object(user+\"/likes?fields=name\")\n",
    "    #print(resource)\n",
    "    cats = dict()\n",
    "    while(True):\n",
    "        for page in resource['data']:\n",
    "            pages.append(page['id'])\n",
    "        # Attempt to make a request to the next page of data, if it exists.\n",
    "        try:\n",
    "            resource=req.get(resource['paging']['next']).json()\n",
    "        except KeyError:\n",
    "            #print(\"Finished getting pages from user \" + user)\n",
    "            # When there are no more pages (['paging']['next']), break from the\n",
    "            # loop and end the script.\n",
    "            break\n",
    "    return pages\n",
    "\n",
    "\n",
    "def getPagesListFriends(user, token):\n",
    "    pages = list()\n",
    "    try:\n",
    "        graph = fb.GraphAPI(access_token=token, version='2.7')\n",
    "        resource = graph.get_object(user+\"?fields=likes{category,name}\")[\"likes\"]\n",
    "    except:\n",
    "        return pages\n",
    "    cats = dict()\n",
    "    while(True):\n",
    "        for page in resource['data']:\n",
    "            pages.append(page['id'])\n",
    "        # Attempt to make a request to the next page of data, if it exists.\n",
    "        try:\n",
    "            resource=req.get(resource['paging']['next']).json()\n",
    "        except KeyError:\n",
    "            #print(\"Finished getting pages from user \" + user)\n",
    "            # When there are no more pages (['paging']['next']), break from the\n",
    "            # loop and end the script.\n",
    "            break\n",
    "    return pages"
   ]
  },
  {
   "cell_type": "code",
   "execution_count": null,
   "metadata": {
    "collapsed": true
   },
   "outputs": [],
   "source": [
    "#Classifies pages by categories, the category with more pages gets 1.0\n",
    "#and the smaller categories get smaller and smaller classifications...\n",
    "#   cats        dictionary of categories found, each with it's own array of pages\n",
    "#       {c1 : [page1, page2, page3...], c2 : [page4, page5], c3 : [page6]...}\n",
    "#   return      dictionary of pages, each with it's own classification (0.0 < classification <= 1.0)\n",
    "#       {page1 : x, page2 : x, page4 : y, page6 : z}\n",
    "def classify(cats):\n",
    "    classification = ddict()\n",
    "    biggestCat = \"\"\n",
    "    biggestCatLen = 0\n",
    "    for cat, pages in cats.items():\n",
    "        if(len(pages) > biggestCatLen):\n",
    "            biggestCat = cat\n",
    "            biggestCatLen = len(pages)\n",
    "    for cat, pages in cats.items():\n",
    "        classify = len(pages)/biggestCatLen\n",
    "        for i in pages:\n",
    "            classification[i] = classify\n",
    "\n",
    "    return classification"
   ]
  },
  {
   "cell_type": "code",
   "execution_count": null,
   "metadata": {
    "collapsed": false
   },
   "outputs": [],
   "source": [
    "import operator\n",
    "\n",
    "def norm(c):\n",
    "    tuples = list()\n",
    "    sortedByVal = sorted(c.items(), key=operator.itemgetter(1))\n",
    "    \n",
    "    w = [25, 18, 15, 12, 10, 8, 6, 4, 2, 1]\n",
    "    print(sortedByVal)\n",
    "    for i in range(0, len(sortedByVal)-11):\n",
    "        print(sortedByVal)\n",
    "        tup = sortedByVal[i]\n",
    "        tuples.append((tup[0], 1))\n",
    "    count = 9\n",
    "    for i in range(len(sortedByVal)-9, len(sortedByVal)):\n",
    "        \n",
    "        a = w[count]\n",
    "        if(i > 0):\n",
    "            print(sortedByVal[i])\n",
    "            tup = sortedByVal[i]\n",
    "            tuples.append((tup[0], a))\n",
    "            count = count - 1\n",
    "    newDict = dict()\n",
    "    for t in tuples:\n",
    "        newDict[t[0]] = t[1]\n",
    "    return newDict\n",
    "\n",
    "d = {\"11\" : 0.2, \"1\" : 0.3, \"04\" : 0.4, \"07\" : 0.8}\n",
    "print(d)\n",
    "d1 = norm(d)\n",
    "print(d1)"
   ]
  },
  {
   "cell_type": "code",
   "execution_count": null,
   "metadata": {
    "collapsed": true
   },
   "outputs": [],
   "source": [
    "def similarityWith(user, classification, token):\n",
    "    otherUserPages = getPagesListFriends(user, token)\n",
    "    rate = 0.0\n",
    "    for page in otherUserPages:\n",
    "        if page in classification:\n",
    "            rate += classification[page]\n",
    "    return rate"
   ]
  },
  {
   "cell_type": "code",
   "execution_count": null,
   "metadata": {
    "collapsed": true
   },
   "outputs": [],
   "source": [
    "# return dict { id1 : friend_name1, id2 : friend_name2 }\n",
    "def getFriends(user, token):\n",
    "    graph = fb.GraphAPI(access_token=token, version='2.7')\n",
    "    resource = graph.get_object(\"/\" + user + \"/friends\")\n",
    "    friends = dict()\n",
    "    while(True):\n",
    "        for friend in resource['data']:\n",
    "            friends[friend['id']] = friend['name']\n",
    "            # Attempt to make a request to the next page of data, if it exists.\n",
    "        try:\n",
    "            resource=req.get(resource['paging']['next']).json()\n",
    "        except KeyError:\n",
    "            #print(\"Finished getting friends from user \" + user)\n",
    "            # When there are no more pages (['paging']['next']), break from the\n",
    "            # loop and end the script.\n",
    "            break\n",
    "\n",
    "    return friends"
   ]
  },
  {
   "cell_type": "code",
   "execution_count": null,
   "metadata": {
    "collapsed": true
   },
   "outputs": [],
   "source": [
    "def getUsersDict(user, token):\n",
    "    friends = getFriends(user, token)\n",
    "    ffriends = dict() \n",
    "    listFFriends = []\n",
    "    for idFriend in friends: \n",
    "        friendsOfFriends = getFriends(idFriend, token)\n",
    "        for idUser, name in friendsOfFriends.items():\n",
    "            if not idUser in ffriends and not idUser in friends:\n",
    "                ffriends[idUser] = name\n",
    "                listFFriends.append([idUser, name])\n",
    "    \n",
    "    count = 0\n",
    "    while len(listFFriends) < 400 and len(listFFriends) > count:\n",
    "        curruentID = listFFriends[count][0]\n",
    "        friendsCurrentID = getFriends(curruentID, token)\n",
    "        for idUser, name in friendsOfFriends.items():\n",
    "            if not idUser in ffriends:\n",
    "                ffriends[idUser] = name\n",
    "                listFFriends.append([idUser, name])\n",
    "        count+=1\n",
    "    return ffriends"
   ]
  },
  {
   "cell_type": "code",
   "execution_count": null,
   "metadata": {
    "collapsed": true
   },
   "outputs": [],
   "source": []
  },
  {
   "cell_type": "code",
   "execution_count": null,
   "metadata": {
    "collapsed": false
   },
   "outputs": [],
   "source": [
    "myfriends = getFriends('me', token)"
   ]
  },
  {
   "cell_type": "code",
   "execution_count": null,
   "metadata": {
    "collapsed": false
   },
   "outputs": [],
   "source": [
    "users = getUsersDict('me', token)"
   ]
  },
  {
   "cell_type": "code",
   "execution_count": null,
   "metadata": {
    "collapsed": false
   },
   "outputs": [],
   "source": [
    "cats = getCats(token)\n",
    "classf = norm(classify(cats))\n",
    "\n",
    "otherUserPages = getPagesList(otherPersonID, token)"
   ]
  },
  {
   "cell_type": "code",
   "execution_count": null,
   "metadata": {
    "collapsed": true
   },
   "outputs": [],
   "source": [
    "def getUserNameFromID(id, token):\n",
    "    res = graph.get_object(\"/\" + user + \"?fields=name\")\n",
    "    return res[\"name\"]"
   ]
  },
  {
   "cell_type": "code",
   "execution_count": null,
   "metadata": {
    "collapsed": true
   },
   "outputs": [],
   "source": [
    "def getUserName(sortedDF, users):\n",
    "    name = dict()\n",
    "    for id, row in sortedDF.iterrows():\n",
    "        name[id] = users[id]\n",
    "    sortedDF['user-name'] = sortedDF['user-id'].map(users)\n",
    "    return sortedDF\n",
    "    "
   ]
  },
  {
   "cell_type": "code",
   "execution_count": null,
   "metadata": {
    "collapsed": true
   },
   "outputs": [],
   "source": [
    "def calcSimilarityAndAddTo(key, classf, token, similarityDict):\n",
    "    ratio = similarityWith(key, classf, token)\n",
    "    #if(ratio > 0.000):\n",
    "    similarityDict[key] = ratio\n",
    "    return ratio"
   ]
  },
  {
   "cell_type": "code",
   "execution_count": null,
   "metadata": {
    "collapsed": false
   },
   "outputs": [],
   "source": [
    "import threading\n",
    "lock = threading.Lock()\n",
    "\n",
    "def simCalcFunction(key, classf, token, similarityDict, threadsRunning):\n",
    "    lock.acquire()\n",
    "    threadsRunning = threadsRunning + 1\n",
    "    lock.release()\n",
    "    \n",
    "    ratio = calcSimilarityAndAddTo(key, classf, token, similarityDict)\n",
    "    \n",
    "    lock.acquire()\n",
    "    #print(key + \" similarity with me is \" + str(ratio))\n",
    "    threadsRunning = threadsRunning - 1\n",
    "    lock.release()"
   ]
  },
  {
   "cell_type": "code",
   "execution_count": null,
   "metadata": {
    "collapsed": false
   },
   "outputs": [],
   "source": [
    "#listKey = list()\n",
    "#listValue = list()\n",
    "#listSimilarity = list()\n",
    "#selectedFriends = dict()\n",
    "count = 0\n",
    "limit = 32\n",
    "similarityDict = dict()\n",
    "threadsRunning = 0\n",
    "threads = list()\n",
    "for key, value in users.items():\n",
    "    while(threadsRunning > limit):\n",
    "        i = 1\n",
    "        #do nothing\n",
    "    t = threading.Thread(target=simCalcFunction, args = (key, classf, token, similarityDict, threadsRunning))\n",
    "    t.daemon = False\n",
    "    threads.append(t)\n",
    "    t.start()\n",
    "    print(\"started thread for user \" + key)\n",
    "    #simCalcFunction(key, classf, token, similarityDict, threadsRunning)\n",
    "    ##if(similarity > 0):\n",
    "    ##    similarityDict[key] = similarity\n",
    "    ##    listKey.append(key)\n",
    "    ##    listValue.append(value)\n",
    "    ##    selectedFriends[key] = value\n",
    "    ##    listSimilarity.append(similarity)\n",
    "    ##    listSimilarity.append([key, value, similarity])\n",
    "for x in threads:\n",
    "     x.join()"
   ]
  },
  {
   "cell_type": "code",
   "execution_count": null,
   "metadata": {
    "collapsed": false
   },
   "outputs": [],
   "source": [
    "import pandas as pd\n",
    "#d = {'id': listKey, 'name': listValue, 'similarity': listSimilarity}\n",
    "#df_similarity = pd.DataFrame(data=d)\n",
    "#print(similarityDict)\n",
    "#print(users)\n",
    "s = pd.Series(similarityDict, name='similarity')\n",
    "s.index.name = 'user-id'\n",
    "s.reset_index()\n",
    "#print(s)\n",
    "df_similarity = s.to_frame()\n",
    "sortedDF = df_similarity.sort_values([\"similarity\"], ascending=[False])\n",
    "#sortedDF = getUserName(sortedDF, users)\n",
    "print(x[x.columns[0]].map(users))\n",
    "#print (sortedDF)"
   ]
  },
  {
   "cell_type": "code",
   "execution_count": null,
   "metadata": {
    "collapsed": true
   },
   "outputs": [],
   "source": []
  }
 ],
 "metadata": {
  "kernelspec": {
   "display_name": "Python 3",
   "language": "python",
   "name": "python3"
  },
  "language_info": {
   "codemirror_mode": {
    "name": "ipython",
    "version": 3
   },
   "file_extension": ".py",
   "mimetype": "text/x-python",
   "name": "python",
   "nbconvert_exporter": "python",
   "pygments_lexer": "ipython3",
   "version": "3.6.0"
  }
 },
 "nbformat": 4,
 "nbformat_minor": 2
}
